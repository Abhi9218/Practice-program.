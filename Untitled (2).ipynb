{
 "cells": [
  {
   "cell_type": "markdown",
   "id": "35074679-1949-458e-8df8-000c45177168",
   "metadata": {},
   "source": [
    "Que(1).Write a program input anumber and prints it cube."
   ]
  },
  {
   "cell_type": "code",
   "execution_count": 9,
   "id": "aba4cb90-90d8-4e34-98fb-460cbb57d7fe",
   "metadata": {},
   "outputs": [
    {
     "name": "stdin",
     "output_type": "stream",
     "text": [
      "Enter number for cube 3\n"
     ]
    },
    {
     "name": "stdout",
     "output_type": "stream",
     "text": [
      "The cube of 3 is 27\n"
     ]
    }
   ],
   "source": [
    "a=int(input(\"Enter number for cube\"))\n",
    "B=a*a*a\n",
    "print(\"The cube of\",a,\"is\",B)"
   ]
  },
  {
   "cell_type": "markdown",
   "id": "98e70b7f-97ba-4952-8dcc-521a01d99bb5",
   "metadata": {},
   "source": [
    "Que(2).Write a program input a number and print its square root."
   ]
  },
  {
   "cell_type": "code",
   "execution_count": 4,
   "id": "b93f4d89-df98-4285-984d-ab663a983d8b",
   "metadata": {},
   "outputs": [
    {
     "name": "stdin",
     "output_type": "stream",
     "text": [
      "Enter number for square root 16\n"
     ]
    },
    {
     "name": "stdout",
     "output_type": "stream",
     "text": [
      "The square root of 16 is 4.0\n"
     ]
    }
   ],
   "source": [
    "a=int(input(\"Enter number for square root\"))\n",
    "B=a**0.5\n",
    "print(\"The square root of\",a,\"is\",B)"
   ]
  },
  {
   "cell_type": "markdown",
   "id": "6de27c28-ae24-444f-8f9a-a44f5bf51f50",
   "metadata": {},
   "source": [
    "Que(3).Write a program input an integer in range 0-999 and then prints if the integer entered is a 1/2/3 digit number."
   ]
  },
  {
   "cell_type": "code",
   "execution_count": 7,
   "id": "929ca6e8-c183-4659-b622-35ca79e621ea",
   "metadata": {},
   "outputs": [
    {
     "name": "stdin",
     "output_type": "stream",
     "text": [
      "Enter your number  789\n"
     ]
    },
    {
     "name": "stdout",
     "output_type": "stream",
     "text": [
      "Triple digit number\n"
     ]
    }
   ],
   "source": [
    "A=int(input(\"Enter your number \"))\n",
    "if A<10:\n",
    "    print(\"Single digit number\")\n",
    "elif A>=10 and A<100:\n",
    "    print(\"Double digit number \")\n",
    "elif A>=100 and A<1000:\n",
    "    print(\"Triple digit number\")\n",
    "else:\n",
    "    print(\"Invalid number\")"
   ]
  },
  {
   "cell_type": "markdown",
   "id": "11c5e7ba-eab1-4238-a1e8-326937bca25f",
   "metadata": {},
   "source": [
    "Que(4).Write a program input an integer in range 0-999 and then prints if the integer entered is a 1/2/3 digit number.By using nested loop."
   ]
  },
  {
   "cell_type": "code",
   "execution_count": 20,
   "id": "d5050625-5224-4703-8cc3-13d43e954751",
   "metadata": {},
   "outputs": [
    {
     "name": "stdin",
     "output_type": "stream",
     "text": [
      "Enter number in range(0-999) 564\n"
     ]
    },
    {
     "name": "stdout",
     "output_type": "stream",
     "text": [
      "Triple digit number entered\n"
     ]
    }
   ],
   "source": [
    "Num=int(input(\"Enter number in range(0-999)\"))\n",
    "if Num<0 and Num>1000:\n",
    "    print(\"Valid Number\")\n",
    "else:\n",
    "    if Num<10:\n",
    "        print(\"Single digit number enter\")\n",
    "    else:\n",
    "        if Num<100:\n",
    "            print(\"Double digit number entered\")\n",
    "        else:\n",
    "            if Num<1000:\n",
    "                print(\"Triple digit number entered\")\n",
    "                            "
   ]
  },
  {
   "cell_type": "markdown",
   "id": "e3c3f923-265c-44ab-bd50-b43d20a1bcc2",
   "metadata": {},
   "source": [
    "Que(5).Write a program to print cube of number in the range 15 to 20."
   ]
  },
  {
   "cell_type": "code",
   "execution_count": 26,
   "id": "547259b2-8b0a-464d-aedb-5daf7053b0fb",
   "metadata": {},
   "outputs": [
    {
     "name": "stdout",
     "output_type": "stream",
     "text": [
      "The cube of 15 is 3375\n",
      "The cube of 16 is 4096\n",
      "The cube of 17 is 4913\n",
      "The cube of 18 is 5832\n",
      "The cube of 19 is 6859\n",
      "The cube of 20 is 8000\n"
     ]
    }
   ],
   "source": [
    "for i in range(15,21):\n",
    "    A=i*i*i\n",
    "    print(\"The cube of\",i,\"is\",A,)"
   ]
  },
  {
   "cell_type": "markdown",
   "id": "b5ff70b6-a2ff-4e2a-9794-a4371ed7aed4",
   "metadata": {},
   "source": [
    "Que(6).Write a program to print square root of every alternate number in the range of 1 to 10."
   ]
  },
  {
   "cell_type": "code",
   "execution_count": 30,
   "id": "a31489c6-e0ea-41e0-a7a7-9bf57e09ee4c",
   "metadata": {},
   "outputs": [
    {
     "name": "stdout",
     "output_type": "stream",
     "text": [
      "The square root of  1 is 1.0\n",
      "The square root of  2 is 1.4142135623730951\n",
      "The square root of  3 is 1.7320508075688772\n",
      "The square root of  4 is 2.0\n",
      "The square root of  5 is 2.23606797749979\n",
      "The square root of  6 is 2.449489742783178\n",
      "The square root of  7 is 2.6457513110645907\n",
      "The square root of  8 is 2.8284271247461903\n",
      "The square root of  9 is 3.0\n",
      "The square root of  10 is 3.1622776601683795\n"
     ]
    }
   ],
   "source": [
    "for i in range(1,11):\n",
    "    A=i**0.5\n",
    "    print(\"The square root of \",i,\"is\",A,)"
   ]
  },
  {
   "cell_type": "markdown",
   "id": "1d39ab14-1659-4373-9460-d571796fc3be",
   "metadata": {},
   "source": [
    "Que(7).Write a program that multiplies two integer number without using * operator,using repated addition."
   ]
  },
  {
   "cell_type": "code",
   "execution_count": 2,
   "id": "40942d65-5774-4454-8a39-155332f56e02",
   "metadata": {},
   "outputs": [
    {
     "name": "stdin",
     "output_type": "stream",
     "text": [
      "Enter first number: 10\n",
      "Enter second nuber: 11\n"
     ]
    },
    {
     "name": "stdout",
     "output_type": "stream",
     "text": [
      "the product of 10 and 11 is 110\n"
     ]
    }
   ],
   "source": [
    "n1=int(input(\"Enter first number:\"))\n",
    "n2=int(input(\"Enter second nuber:\"))\n",
    "A=0\n",
    "B=n1                                         #Ask to sir \n",
    "while B>0:\n",
    "    B=B-1\n",
    "    A=A+n2\n",
    "print(\"the product of\",n1,\"and\",n2,\"is\",A)\n"
   ]
  },
  {
   "cell_type": "markdown",
   "id": "d79bd935-ca67-4180-9de2-11d47a4cbe9d",
   "metadata": {},
   "source": [
    "Que(8). Write a program to print on of the words negative ,Zero,or, Positive ,according to whether variable x is less than zero,zero or grater than zero respectively."
   ]
  },
  {
   "cell_type": "code",
   "execution_count": 4,
   "id": "d582aad9-1402-4bfb-af61-fbbff2b29d10",
   "metadata": {},
   "outputs": [
    {
     "name": "stdin",
     "output_type": "stream",
     "text": [
      "Enter your number: 12\n"
     ]
    },
    {
     "name": "stdout",
     "output_type": "stream",
     "text": [
      "12 is positive integer \n"
     ]
    }
   ],
   "source": [
    "A=int(input(\"Enter your number:\"))\n",
    "if A<0:\n",
    "    print(A,\"is negative integer:\")\n",
    "elif A==0:\n",
    "    print(\"Zero\")\n",
    "else:\n",
    "    if A>0:\n",
    "        print(A,\"is positive integer \")\n",
    "    "
   ]
  },
  {
   "cell_type": "markdown",
   "id": "38167518-ce44-4126-8639-a6f5f92c9956",
   "metadata": {},
   "source": [
    "Que(9).Write a program that return true if the input number is even number, false otherwise. "
   ]
  },
  {
   "cell_type": "code",
   "execution_count": 11,
   "id": "a69b77b1-037e-4710-b649-4a64491bb198",
   "metadata": {},
   "outputs": [
    {
     "name": "stdin",
     "output_type": "stream",
     "text": [
      "Enter number for know Even or not: 26734652346342\n"
     ]
    },
    {
     "name": "stdout",
     "output_type": "stream",
     "text": [
      "True 26734652346342 is an even number\n"
     ]
    }
   ],
   "source": [
    "A=int(input(\"Enter number for know Even or not:\"))\n",
    "if A%2==0:\n",
    "    print(\"True\" ,A,\"is an even number\")\n",
    "else:\n",
    "    print(\"False\",A,\"is not an even number\")"
   ]
  },
  {
   "cell_type": "markdown",
   "id": "5f262efc-9f3b-4852-9d87-3d54c78d3ff3",
   "metadata": {},
   "source": [
    "Que(10).Write a python program that calculate and prints the number of second in year."
   ]
  },
  {
   "cell_type": "code",
   "execution_count": 20,
   "id": "8eca4f99-3ee7-4a2c-ae15-6647c1aacbea",
   "metadata": {},
   "outputs": [
    {
     "name": "stdin",
     "output_type": "stream",
     "text": [
      "Enter second  12\n"
     ]
    },
    {
     "name": "stdout",
     "output_type": "stream",
     "text": [
      "3.8051750380517503e-07 year\n"
     ]
    }
   ],
   "source": [
    "A=int(input(\"Enter second \"))\n",
    "b=365*24*60*60\n",
    "print(A/b,\"year\")"
   ]
  },
  {
   "cell_type": "markdown",
   "id": "368ae80a-4c07-4b0c-b510-70eb0af7ac9b",
   "metadata": {},
   "source": [
    "Que(11).Write a python program that accept two integer from the user and print a message saying if first number is divisible by second or if it is not. "
   ]
  },
  {
   "cell_type": "code",
   "execution_count": 19,
   "id": "baa9af24-4fdb-420c-883d-97972c9bf4f1",
   "metadata": {},
   "outputs": [
    {
     "name": "stdin",
     "output_type": "stream",
     "text": [
      "Enter first number: 5\n",
      "Enter second number: 45\n"
     ]
    },
    {
     "name": "stdout",
     "output_type": "stream",
     "text": [
      "First number is not divisible by second number\n"
     ]
    }
   ],
   "source": [
    "A=int(input(\"Enter first number:\"))\n",
    "B=int(input(\"Enter second number:\"))\n",
    "if A%B==0:\n",
    "    print(\"First number is divisible by Second number \")\n",
    "else:\n",
    "    print(\"First number is not divisible by second number\")"
   ]
  },
  {
   "cell_type": "markdown",
   "id": "8f94bb92-1b2f-4fe9-8167-43a334656acb",
   "metadata": {},
   "source": [
    "Que(12).Write a progaram that ask the user the day number in  year in the range 2 to 365 and ask the first day of the year-Sunday, monaday, tuesday, and wednesday .then the program should display the day on the day number that has been input.. "
   ]
  },
  {
   "cell_type": "code",
   "execution_count": null,
   "id": "bd2902a9-1072-416d-a368-3f063dadc7bd",
   "metadata": {},
   "outputs": [],
   "source": [
    "A=int(input(\"Enter day number\"))\n"
   ]
  },
  {
   "cell_type": "markdown",
   "id": "8e2a3776-8c6f-4b72-ba75-7ee9e23def2c",
   "metadata": {},
   "source": [
    "Que(13). Using a while loop, verify if the number A is purely divisible by number B and if so then how many\n",
    "times it can be divisible."
   ]
  },
  {
   "cell_type": "code",
   "execution_count": null,
   "id": "9e46bafb-c9ef-42bc-84d3-a78463ab250d",
   "metadata": {},
   "outputs": [],
   "source": [
    "n1=int(input(\"Enter first number:\"))\n",
    "n2=int(input(\"Enter second number:\"))\n",
    "while n2/n1:\n",
    "    print(n2,\" is puerly divisble by\", n1)\n"
   ]
  },
  {
   "cell_type": "code",
   "execution_count": 10,
   "id": "4ed7c888-70c7-429a-972e-f7d6aef247b4",
   "metadata": {},
   "outputs": [
    {
     "name": "stdin",
     "output_type": "stream",
     "text": [
      "Enter number A:  18\n",
      "Enter number B:  2\n"
     ]
    },
    {
     "name": "stdout",
     "output_type": "stream",
     "text": [
      "9.0 is divisible by 2 and can be divided 1 times.\n"
     ]
    }
   ],
   "source": [
    "A = int(input(\"Enter number A: \"))\n",
    "B = int(input(\"Enter number B: \"))\n",
    "\n",
    "count = 0\n",
    "\n",
    "while A % B == 0:\n",
    "    A = A / B\n",
    "    count += 1\n",
    "\n",
    "if count > 0:\n",
    "    print(f\"{A} is divisible by {B} and can be divided {count} times.\")\n",
    "else:\n",
    "    print(f\"{A} is not divisible by {B}.\")\n"
   ]
  },
  {
   "cell_type": "code",
   "execution_count": null,
   "id": "81cd1a15-19d5-4d2b-a8eb-9ab0dc7a5bdc",
   "metadata": {},
   "outputs": [],
   "source": []
  }
 ],
 "metadata": {
  "kernelspec": {
   "display_name": "Python 3 (ipykernel)",
   "language": "python",
   "name": "python3"
  },
  "language_info": {
   "codemirror_mode": {
    "name": "ipython",
    "version": 3
   },
   "file_extension": ".py",
   "mimetype": "text/x-python",
   "name": "python",
   "nbconvert_exporter": "python",
   "pygments_lexer": "ipython3",
   "version": "3.10.8"
  }
 },
 "nbformat": 4,
 "nbformat_minor": 5
}
